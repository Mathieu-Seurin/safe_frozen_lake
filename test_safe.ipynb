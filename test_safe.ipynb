{
 "cells": [
  {
   "cell_type": "code",
   "execution_count": 44,
   "metadata": {
    "collapsed": true
   },
   "outputs": [],
   "source": [
    "from lake import FrozenLakeEnvStop\n",
    "import numpy as np\n",
    "import torch\n",
    "from torch import nn\n",
    "import torch.nn.functional as F"
   ]
  },
  {
   "cell_type": "code",
   "execution_count": 45,
   "metadata": {},
   "outputs": [],
   "source": [
    "game = FrozenLakeEnvStop(is_slippery=False, reward_when_falling=0)"
   ]
  },
  {
   "cell_type": "code",
   "execution_count": 46,
   "metadata": {},
   "outputs": [
    {
     "name": "stdout",
     "output_type": "stream",
     "text": [
      "{'state': 0, 'gave_feedback': False}\n\n\u001b[41mS\u001b[0mFFF\nFHFH\nFFFH\nHFFG\nNone\n({'state': 0, 'gave_feedback': False}, 0.0, False, {'prob': 1.0})\n({'state': 4, 'gave_feedback': False}, 0.0, False, {'prob': 1.0})\n({'state': 8, 'gave_feedback': False}, 0.0, False, {'prob': 1.0})\n({'state': 8, 'gave_feedback': True}, 0, False, {'prob': 1.0})\n"
     ]
    }
   ],
   "source": [
    "print(game.reset())\n",
    "print(game.render())\n",
    "print(game.step(0))\n",
    "print(game.step(1))\n",
    "print(game.step(1))\n",
    "print(game.step(1))"
   ]
  },
  {
   "cell_type": "code",
   "execution_count": 47,
   "metadata": {},
   "outputs": [
    {
     "name": "stdout",
     "output_type": "stream",
     "text": [
      "Discrete(16)\nDiscrete(4)\n"
     ]
    }
   ],
   "source": [
    "print(game.observation_space)\n",
    "print(game.action_space)\n",
    "# action are : 0 Left     1 Down      2  RIGHT     3 UP    "
   ]
  },
  {
   "cell_type": "code",
   "execution_count": 49,
   "metadata": {},
   "outputs": [],
   "source": [
    "def run_expe(create_algo, game, verbose=True):\n",
    "    \n",
    "    n_ep = 1000    \n",
    "    count_success = 0\n",
    "    success_to_win = 5\n",
    "    \n",
    "    algo = create_algo()\n",
    "    \n",
    "    for ep in range(n_ep):\n",
    "        \n",
    "        next_state = None\n",
    "        state = game.reset()\n",
    "        done = False\n",
    "        cumul_reward = 0\n",
    "        num_steps = 0\n",
    "        while not done:\n",
    "            \n",
    "            action = algo.choose_action_eps_greedy(state)\n",
    "            next_state, reward, done, info = game.step(action)\n",
    "            algo.optimize(state, action, next_state, reward)\n",
    "            \n",
    "            cumul_reward += reward\n",
    "            state = next_state\n",
    "            num_steps += 1\n",
    "        \n",
    "        #if last reward is 1, we consider that the environment is solved.\n",
    "        # if the algo solve the algo N times in a row, it's okay ! (N = success_to_win)\n",
    "        if reward == 1:\n",
    "            count_success += 1\n",
    "        else:\n",
    "            count_success = 0\n",
    "            \n",
    "        if count_success > success_to_win:\n",
    "            break\n",
    "        if verbose:\n",
    "            print(\"End of ep #{:05d} in {:03d} steps, cumul_reward = {}\".format(ep,  num_steps, cumul_reward))\n",
    "        \n",
    "    return ep"
   ]
  },
  {
   "cell_type": "code",
   "execution_count": 57,
   "metadata": {},
   "outputs": [],
   "source": [
    "def run_multiple_expe(create_algo, game, n_expe):\n",
    "    \n",
    "    mean_num_step = []\n",
    "    for i in range(n_expe):\n",
    "        mean_num_step.append(run_expe(create_algo, game, verbose=False))\n",
    "        \n",
    "    mean_num_step = np.array(mean_num_step)\n",
    "    print(\"Number of episodes mean\", np.mean(mean_num_step))\n",
    "    print(\"Number of failure to solve env\", np.count_nonzero(mean_num_step > (game.max_steps - 5)))\n",
    "    \n",
    "    episodes_of_non_failure = mean_num_step[np.where(mean_num_step<995)]\n",
    "    print(\"Number of episodes when not failing\", episodes_of_non_failure.mean())"
   ]
  },
  {
   "cell_type": "code",
   "execution_count": 52,
   "metadata": {},
   "outputs": [],
   "source": [
    "class TabQLearning(object):\n",
    "    def __init__(self, env_size, n_action, gamma, lr, expected_exploration_steps):\n",
    "        \n",
    "        self.n_action = n_action\n",
    "        self.env_size = env_size\n",
    "        self.q_tab = np.zeros((env_size, n_action))\n",
    "        \n",
    "        self.lr = lr\n",
    "        self.gamma = gamma\n",
    "        \n",
    "        # Exploration parameters\n",
    "        self.expected_exploration_steps = expected_exploration_steps\n",
    "        self.n_step_eps = 0\n",
    "        self.minimum_epsilon = 0.05\n",
    "        self.epsilon_init = 1   \n",
    "        self.current_eps = self.epsilon_init\n",
    "    def choose_action_eps_greedy(self, s):\n",
    "        \n",
    "        if np.random.random() < self.current_eps:\n",
    "            a = np.random.randint(self.n_action)\n",
    "        else:\n",
    "            s = s['state']\n",
    "            a = np.argmax(self.q_tab[s])\n",
    "            \n",
    "        self.current_eps = max(self.minimum_epsilon, self.epsilon_init * np.exp(- 2.5 * self.n_step_eps / self.expected_exploration_steps))\n",
    "        self.n_step_eps += 1\n",
    "        \n",
    "        return a\n",
    "    \n",
    "    def optimize(self, state, a, next_state, r):\n",
    "        state, next_state = state['state'], next_state['state']\n",
    "        self.q_tab[state, a] = (1-self.lr)*self.q_tab[state, a] + self.lr*(r + self.gamma*np.max(self.q_tab[next_state]))"
   ]
  },
  {
   "cell_type": "code",
   "execution_count": 53,
   "metadata": {},
   "outputs": [
    {
     "name": "stdout",
     "output_type": "stream",
     "text": [
      "End of ep #00000 in 088 steps, cumul_reward = 1.0\nEnd of ep #00001 in 100 steps, cumul_reward = 0.0\nEnd of ep #00002 in 100 steps, cumul_reward = 0.0\nEnd of ep #00003 in 032 steps, cumul_reward = 1.0\nEnd of ep #00004 in 100 steps, cumul_reward = 0.0\nEnd of ep #00005 in 100 steps, cumul_reward = 0.0\nEnd of ep #00006 in 100 steps, cumul_reward = 0.0\nEnd of ep #00007 in 078 steps, cumul_reward = 1.0\nEnd of ep #00008 in 092 steps, cumul_reward = 1.0\nEnd of ep #00009 in 088 steps, cumul_reward = 1.0\nEnd of ep #00010 in 023 steps, cumul_reward = 1.0\nEnd of ep #00011 in 012 steps, cumul_reward = 1.0\n"
     ]
    },
    {
     "data": {
      "text/plain": [
       "12"
      ]
     },
     "execution_count": 53,
     "metadata": {},
     "output_type": "execute_result"
    }
   ],
   "source": [
    "class TabQLearningControlerFeedback(object):\n",
    "    def __init__(self, env_size, n_action, gamma, lr, expected_exploration_steps, margin):\n",
    "        \n",
    "        self.n_action = n_action\n",
    "        self.env_size = env_size\n",
    "        self.q_tab = np.zeros((env_size, n_action))\n",
    "        \n",
    "        self.lr = lr\n",
    "        self.gamma = gamma\n",
    "        self.margin = margin\n",
    "        \n",
    "        # Exploration parameters\n",
    "        self.expected_exploration_steps = expected_exploration_steps\n",
    "        self.n_step_eps = 0\n",
    "        self.minimum_epsilon = 0.05\n",
    "        self.epsilon_init = 1   \n",
    "        self.current_eps = self.epsilon_init\n",
    "    def choose_action_eps_greedy(self, s):\n",
    "        \n",
    "        s = s['state']\n",
    "        \n",
    "        if np.random.random() < self.current_eps:\n",
    "            a = np.random.randint(self.n_action)\n",
    "        else:\n",
    "            a = np.argmax(self.q_tab[s])\n",
    "            \n",
    "        self.current_eps = max(self.minimum_epsilon, self.epsilon_init * np.exp(- 2.5 * self.n_step_eps / self.expected_exploration_steps))\n",
    "        self.n_step_eps += 1\n",
    "        \n",
    "        return a\n",
    "    \n",
    "    def optimize(self, state, action, next_state, r):\n",
    "        \n",
    "        state = state['state']\n",
    "\n",
    "        gave_feedback = next_state['gave_feedback']        \n",
    "        next_state = next_state['state']\n",
    "\n",
    "        if gave_feedback:\n",
    "            bad_action = action\n",
    "            q_with_margin = [self.q_tab[state, a] - self.margin_loss(bad_action, a) for a in range(self.n_action)]\n",
    "            self.q_tab[state, action] = (1 - self.lr) * self.q_tab[state, action] + self.lr * min(q_with_margin)\n",
    "        else:\n",
    "            self.q_tab[state, action] = (1 - self.lr) * self.q_tab[state, action] + self.lr * (r + self.gamma * np.max(self.q_tab[next_state]))\n",
    "            \n",
    "    def margin_loss(self, bad_action, a):\n",
    "        if bad_action == a:\n",
    "            return 0\n",
    "        else:\n",
    "            return self.margin\n",
    "        \n",
    "gamma = 0.99\n",
    "expected_exploration_steps = 3000\n",
    "margin=0.2\n",
    "\n",
    "create_algo = lambda : TabQLearningControlerFeedback(16, 4, gamma=gamma,\n",
    "                                                     lr=0.1, expected_exploration_steps=expected_exploration_steps, margin=margin)\n",
    "\n",
    "game = FrozenLakeEnvStop(is_slippery=False, reward_when_falling=0)\n",
    "run_expe(create_algo, game, verbose=True)"
   ]
  },
  {
   "cell_type": "markdown",
   "metadata": {},
   "source": [
    "Frozen-Lake Deterministe avec Feedback\n",
    "-------------------"
   ]
  },
  {
   "cell_type": "markdown",
   "metadata": {},
   "source": [
    "Q-Learning Tabulaire, pas de récompenses négatives"
   ]
  },
  {
   "cell_type": "code",
   "execution_count": 59,
   "metadata": {},
   "outputs": [
    {
     "name": "stdout",
     "output_type": "stream",
     "text": [
      "Number of episodes mean 55.937\nNumber of failure to solve env 51\nNumber of episodes when not failing 10.464360587002096\n"
     ]
    }
   ],
   "source": [
    "gamma = 0.99\n",
    "expected_exploration_steps = 3000\n",
    "margin= 0.2\n",
    "\n",
    "algo = lambda : TabQLearning(16, 4, gamma=gamma, lr=0.1, expected_exploration_steps=expected_exploration_steps)\n",
    "game = FrozenLakeEnvStop(is_slippery=False, reward_when_falling=0)\n",
    "\n",
    "run_multiple_expe(algo, game, n_expe=1000)"
   ]
  },
  {
   "cell_type": "markdown",
   "metadata": {},
   "source": [
    "Q-Learning Tabulaire, récompenses négatives de l'environnement"
   ]
  },
  {
   "cell_type": "code",
   "execution_count": 60,
   "metadata": {},
   "outputs": [
    {
     "name": "stdout",
     "output_type": "stream",
     "text": [
      "Number of episodes mean 48.94\nNumber of failure to solve env 47\nNumber of episodes when not failing 9.354166666666666\n"
     ]
    }
   ],
   "source": [
    "gamma = 0.99\n",
    "expected_exploration_steps = 3000\n",
    "margin= 0.2\n",
    "\n",
    "algo = lambda : TabQLearning(16, 4, gamma=gamma, lr=0.1, expected_exploration_steps=expected_exploration_steps)\n",
    "game = FrozenLakeEnvStop(is_slippery=False, reward_when_falling=-0.1)\n",
    "\n",
    "run_multiple_expe(algo, game, n_expe=1000)"
   ]
  },
  {
   "cell_type": "markdown",
   "metadata": {},
   "source": [
    "Q-Learning Tabulaire inclusion du Feedback, pas de récompenses négatives de l'environnement"
   ]
  },
  {
   "cell_type": "code",
   "execution_count": 61,
   "metadata": {},
   "outputs": [
    {
     "name": "stdout",
     "output_type": "stream",
     "text": [
      "Number of episodes mean 32.568\nNumber of failure to solve env 27\nNumber of episodes when not failing 7.787692307692308\n"
     ]
    }
   ],
   "source": [
    "gamma = 0.99\n",
    "expected_exploration_steps = 3000\n",
    "margin= 0.2\n",
    "\n",
    "algo = lambda : TabQLearningControlerFeedback(16, 4, gamma=gamma, lr=0.1, expected_exploration_steps=expected_exploration_steps, margin=margin)\n",
    "game = FrozenLakeEnvStop(is_slippery=False, reward_when_falling=0)\n",
    "\n",
    "run_multiple_expe(algo, game, n_expe=1000)"
   ]
  },
  {
   "cell_type": "markdown",
   "metadata": {},
   "source": [
    "Frozen-Lake Non-Deterministe avec Feedback\n",
    "-------------------"
   ]
  },
  {
   "cell_type": "code",
   "execution_count": 66,
   "metadata": {},
   "outputs": [
    {
     "name": "stdout",
     "output_type": "stream",
     "text": [
      "deterministe {0: {0: [(1.0, 0, 0.0, False)], 1: [(1.0, 4, 0.0, False)], 2: [(1.0, 1, 0.0, False)], 3: [(1.0, 0, 0.0, False)]}, 1: {0: [(1.0, 0, 0.0, False)], 1: [(1.0, 5, 0.0, True)], 2: [(1.0, 2, 0.0, False)], 3: [(1.0, 1, 0.0, False)]}, 2: {0: [(1.0, 1, 0.0, False)], 1: [(1.0, 6, 0.0, False)], 2: [(1.0, 3, 0.0, False)], 3: [(1.0, 2, 0.0, False)]}, 3: {0: [(1.0, 2, 0.0, False)], 1: [(1.0, 7, 0.0, True)], 2: [(1.0, 3, 0.0, False)], 3: [(1.0, 3, 0.0, False)]}, 4: {0: [(1.0, 4, 0.0, False)], 1: [(1.0, 8, 0.0, False)], 2: [(1.0, 5, 0.0, True)], 3: [(1.0, 0, 0.0, False)]}, 5: {0: [(1.0, 5, 0, True)], 1: [(1.0, 5, 0, True)], 2: [(1.0, 5, 0, True)], 3: [(1.0, 5, 0, True)]}, 6: {0: [(1.0, 5, 0.0, True)], 1: [(1.0, 10, 0.0, False)], 2: [(1.0, 7, 0.0, True)], 3: [(1.0, 2, 0.0, False)]}, 7: {0: [(1.0, 7, 0, True)], 1: [(1.0, 7, 0, True)], 2: [(1.0, 7, 0, True)], 3: [(1.0, 7, 0, True)]}, 8: {0: [(1.0, 8, 0.0, False)], 1: [(1.0, 12, 0.0, True)], 2: [(1.0, 9, 0.0, False)], 3: [(1.0, 4, 0.0, False)]}, 9: {0: [(1.0, 8, 0.0, False)], 1: [(1.0, 13, 0.0, False)], 2: [(1.0, 10, 0.0, False)], 3: [(1.0, 5, 0.0, True)]}, 10: {0: [(1.0, 9, 0.0, False)], 1: [(1.0, 14, 0.0, False)], 2: [(1.0, 11, 0.0, True)], 3: [(1.0, 6, 0.0, False)]}, 11: {0: [(1.0, 11, 0, True)], 1: [(1.0, 11, 0, True)], 2: [(1.0, 11, 0, True)], 3: [(1.0, 11, 0, True)]}, 12: {0: [(1.0, 12, 0, True)], 1: [(1.0, 12, 0, True)], 2: [(1.0, 12, 0, True)], 3: [(1.0, 12, 0, True)]}, 13: {0: [(1.0, 12, 0.0, True)], 1: [(1.0, 13, 0.0, False)], 2: [(1.0, 14, 0.0, False)], 3: [(1.0, 9, 0.0, False)]}, 14: {0: [(1.0, 13, 0.0, False)], 1: [(1.0, 14, 0.0, False)], 2: [(1.0, 15, 1.0, True)], 3: [(1.0, 10, 0.0, False)]}, 15: {0: [(1.0, 15, 0, True)], 1: [(1.0, 15, 0, True)], 2: [(1.0, 15, 0, True)], 3: [(1.0, 15, 0, True)]}}\nnon deterministic {0: {0: [(0.3333333333333333, 0, 0.0, False), (0.3333333333333333, 0, 0.0, False), (0.3333333333333333, 4, 0.0, False)], 1: [(0.3333333333333333, 0, 0.0, False), (0.3333333333333333, 4, 0.0, False), (0.3333333333333333, 1, 0.0, False)], 2: [(0.3333333333333333, 4, 0.0, False), (0.3333333333333333, 1, 0.0, False), (0.3333333333333333, 0, 0.0, False)], 3: [(0.3333333333333333, 1, 0.0, False), (0.3333333333333333, 0, 0.0, False), (0.3333333333333333, 0, 0.0, False)]}, 1: {0: [(0.3333333333333333, 1, 0.0, False), (0.3333333333333333, 0, 0.0, False), (0.3333333333333333, 5, 0.0, True)], 1: [(0.3333333333333333, 0, 0.0, False), (0.3333333333333333, 5, 0.0, True), (0.3333333333333333, 2, 0.0, False)], 2: [(0.3333333333333333, 5, 0.0, True), (0.3333333333333333, 2, 0.0, False), (0.3333333333333333, 1, 0.0, False)], 3: [(0.3333333333333333, 2, 0.0, False), (0.3333333333333333, 1, 0.0, False), (0.3333333333333333, 0, 0.0, False)]}, 2: {0: [(0.3333333333333333, 2, 0.0, False), (0.3333333333333333, 1, 0.0, False), (0.3333333333333333, 6, 0.0, False)], 1: [(0.3333333333333333, 1, 0.0, False), (0.3333333333333333, 6, 0.0, False), (0.3333333333333333, 3, 0.0, False)], 2: [(0.3333333333333333, 6, 0.0, False), (0.3333333333333333, 3, 0.0, False), (0.3333333333333333, 2, 0.0, False)], 3: [(0.3333333333333333, 3, 0.0, False), (0.3333333333333333, 2, 0.0, False), (0.3333333333333333, 1, 0.0, False)]}, 3: {0: [(0.3333333333333333, 3, 0.0, False), (0.3333333333333333, 2, 0.0, False), (0.3333333333333333, 7, 0.0, True)], 1: [(0.3333333333333333, 2, 0.0, False), (0.3333333333333333, 7, 0.0, True), (0.3333333333333333, 3, 0.0, False)], 2: [(0.3333333333333333, 7, 0.0, True), (0.3333333333333333, 3, 0.0, False), (0.3333333333333333, 3, 0.0, False)], 3: [(0.3333333333333333, 3, 0.0, False), (0.3333333333333333, 3, 0.0, False), (0.3333333333333333, 2, 0.0, False)]}, 4: {0: [(0.3333333333333333, 0, 0.0, False), (0.3333333333333333, 4, 0.0, False), (0.3333333333333333, 8, 0.0, False)], 1: [(0.3333333333333333, 4, 0.0, False), (0.3333333333333333, 8, 0.0, False), (0.3333333333333333, 5, 0.0, True)], 2: [(0.3333333333333333, 8, 0.0, False), (0.3333333333333333, 5, 0.0, True), (0.3333333333333333, 0, 0.0, False)], 3: [(0.3333333333333333, 5, 0.0, True), (0.3333333333333333, 0, 0.0, False), (0.3333333333333333, 4, 0.0, False)]}, 5: {0: [(1.0, 5, 0, True)], 1: [(1.0, 5, 0, True)], 2: [(1.0, 5, 0, True)], 3: [(1.0, 5, 0, True)]}, 6: {0: [(0.3333333333333333, 2, 0.0, False), (0.3333333333333333, 5, 0.0, True), (0.3333333333333333, 10, 0.0, False)], 1: [(0.3333333333333333, 5, 0.0, True), (0.3333333333333333, 10, 0.0, False), (0.3333333333333333, 7, 0.0, True)], 2: [(0.3333333333333333, 10, 0.0, False), (0.3333333333333333, 7, 0.0, True), (0.3333333333333333, 2, 0.0, False)], 3: [(0.3333333333333333, 7, 0.0, True), (0.3333333333333333, 2, 0.0, False), (0.3333333333333333, 5, 0.0, True)]}, 7: {0: [(1.0, 7, 0, True)], 1: [(1.0, 7, 0, True)], 2: [(1.0, 7, 0, True)], 3: [(1.0, 7, 0, True)]}, 8: {0: [(0.3333333333333333, 4, 0.0, False), (0.3333333333333333, 8, 0.0, False), (0.3333333333333333, 12, 0.0, True)], 1: [(0.3333333333333333, 8, 0.0, False), (0.3333333333333333, 12, 0.0, True), (0.3333333333333333, 9, 0.0, False)], 2: [(0.3333333333333333, 12, 0.0, True), (0.3333333333333333, 9, 0.0, False), (0.3333333333333333, 4, 0.0, False)], 3: [(0.3333333333333333, 9, 0.0, False), (0.3333333333333333, 4, 0.0, False), (0.3333333333333333, 8, 0.0, False)]}, 9: {0: [(0.3333333333333333, 5, 0.0, True), (0.3333333333333333, 8, 0.0, False), (0.3333333333333333, 13, 0.0, False)], 1: [(0.3333333333333333, 8, 0.0, False), (0.3333333333333333, 13, 0.0, False), (0.3333333333333333, 10, 0.0, False)], 2: [(0.3333333333333333, 13, 0.0, False), (0.3333333333333333, 10, 0.0, False), (0.3333333333333333, 5, 0.0, True)], 3: [(0.3333333333333333, 10, 0.0, False), (0.3333333333333333, 5, 0.0, True), (0.3333333333333333, 8, 0.0, False)]}, 10: {0: [(0.3333333333333333, 6, 0.0, False), (0.3333333333333333, 9, 0.0, False), (0.3333333333333333, 14, 0.0, False)], 1: [(0.3333333333333333, 9, 0.0, False), (0.3333333333333333, 14, 0.0, False), (0.3333333333333333, 11, 0.0, True)], 2: [(0.3333333333333333, 14, 0.0, False), (0.3333333333333333, 11, 0.0, True), (0.3333333333333333, 6, 0.0, False)], 3: [(0.3333333333333333, 11, 0.0, True), (0.3333333333333333, 6, 0.0, False), (0.3333333333333333, 9, 0.0, False)]}, 11: {0: [(1.0, 11, 0, True)], 1: [(1.0, 11, 0, True)], 2: [(1.0, 11, 0, True)], 3: [(1.0, 11, 0, True)]}, 12: {0: [(1.0, 12, 0, True)], 1: [(1.0, 12, 0, True)], 2: [(1.0, 12, 0, True)], 3: [(1.0, 12, 0, True)]}, 13: {0: [(0.3333333333333333, 9, 0.0, False), (0.3333333333333333, 12, 0.0, True), (0.3333333333333333, 13, 0.0, False)], 1: [(0.3333333333333333, 12, 0.0, True), (0.3333333333333333, 13, 0.0, False), (0.3333333333333333, 14, 0.0, False)], 2: [(0.3333333333333333, 13, 0.0, False), (0.3333333333333333, 14, 0.0, False), (0.3333333333333333, 9, 0.0, False)], 3: [(0.3333333333333333, 14, 0.0, False), (0.3333333333333333, 9, 0.0, False), (0.3333333333333333, 12, 0.0, True)]}, 14: {0: [(0.3333333333333333, 10, 0.0, False), (0.3333333333333333, 13, 0.0, False), (0.3333333333333333, 14, 0.0, False)], 1: [(0.3333333333333333, 13, 0.0, False), (0.3333333333333333, 14, 0.0, False), (0.3333333333333333, 15, 1.0, True)], 2: [(0.3333333333333333, 14, 0.0, False), (0.3333333333333333, 15, 1.0, True), (0.3333333333333333, 10, 0.0, False)], 3: [(0.3333333333333333, 15, 1.0, True), (0.3333333333333333, 10, 0.0, False), (0.3333333333333333, 13, 0.0, False)]}, 15: {0: [(1.0, 15, 0, True)], 1: [(1.0, 15, 0, True)], 2: [(1.0, 15, 0, True)], 3: [(1.0, 15, 0, True)]}}\n"
     ]
    }
   ],
   "source": [
    "game = FrozenLakeEnvStop(is_slippery=False, reward_when_falling=0)\n",
    "print(\"deterministe\", game.P)\n",
    "\n",
    "\n",
    "game = FrozenLakeEnvStop(is_slippery=True, reward_when_falling=0)\n",
    "print(\"non deterministic\", game.P)"
   ]
  },
  {
   "cell_type": "code",
   "execution_count": 74,
   "metadata": {},
   "outputs": [
    {
     "name": "stdout",
     "output_type": "stream",
     "text": [
      "\n\u001b[41mS\u001b[0mFFF\nFHFH\nFFFH\nHFFG\nNone\nEnd of ep #00000 in 069 steps, cumul_reward = 1.1102230246251565e-16\nEnd of ep #00001 in 100 steps, cumul_reward = -1.4000000000000001\nEnd of ep #00002 in 022 steps, cumul_reward = 0.8\nEnd of ep #00003 in 100 steps, cumul_reward = -1.7000000000000004\nEnd of ep #00004 in 049 steps, cumul_reward = -0.19999999999999996\nEnd of ep #00005 in 088 steps, cumul_reward = -0.8000000000000005\nEnd of ep #00006 in 044 steps, cumul_reward = 0.6\nEnd of ep #00007 in 090 steps, cumul_reward = 0.20000000000000007\nEnd of ep #00008 in 030 steps, cumul_reward = 0.7\n"
     ]
    },
    {
     "data": {
      "text/plain": [
       "9"
      ]
     },
     "execution_count": 74,
     "metadata": {},
     "output_type": "execute_result"
    }
   ],
   "source": [
    "gamma = 0.99\n",
    "expected_exploration_steps = 3000\n",
    "margin=0.2\n",
    "\n",
    "create_algo = lambda : TabQLearningControlerFeedback(16, 4, gamma=gamma,\n",
    "                                                     lr=0.1, expected_exploration_steps=expected_exploration_steps, margin=margin)\n",
    "\n",
    "game = FrozenLakeEnvStop(is_slippery=True, reward_when_falling=-0.1)\n",
    "\n",
    "run_expe(create_algo, game, verbose=True)\n",
    "\n"
   ]
  },
  {
   "cell_type": "markdown",
   "metadata": {},
   "source": [
    "This seems very easy to solve because of the controller stopping from doing stupid stuff, the explo is easy."
   ]
  },
  {
   "cell_type": "markdown",
   "metadata": {},
   "source": [
    "Q-Learning Tabulaire, pas de récompenses négatives"
   ]
  },
  {
   "cell_type": "code",
   "execution_count": 76,
   "metadata": {},
   "outputs": [
    {
     "name": "stdout",
     "output_type": "stream",
     "text": [
      "Number of episodes mean 14.911\nNumber of failure to solve env 2\nNumber of episodes when not failing 12.938877755511022\n"
     ]
    }
   ],
   "source": [
    "gamma = 0.99\n",
    "expected_exploration_steps = 3000\n",
    "margin= 0.2\n",
    "\n",
    "algo = lambda : TabQLearning(16, 4, gamma=gamma, lr=0.1, expected_exploration_steps=expected_exploration_steps)\n",
    "game = FrozenLakeEnvStop(is_slippery=True, reward_when_falling=0)\n",
    "\n",
    "run_multiple_expe(algo, game, n_expe=1000)"
   ]
  },
  {
   "cell_type": "markdown",
   "metadata": {},
   "source": [
    "Q-Learning Tabulaire, récompenses négatives de l'environnement"
   ]
  },
  {
   "cell_type": "code",
   "execution_count": 77,
   "metadata": {},
   "outputs": [
    {
     "name": "stdout",
     "output_type": "stream",
     "text": [
      "Number of episodes mean 23.509\nNumber of failure to solve env 22\nNumber of episodes when not failing 23.509\n"
     ]
    }
   ],
   "source": [
    "gamma = 0.99\n",
    "expected_exploration_steps = 3000\n",
    "margin= 0.2\n",
    "\n",
    "algo = lambda : TabQLearning(16, 4, gamma=gamma, lr=0.1, expected_exploration_steps=expected_exploration_steps)\n",
    "game = FrozenLakeEnvStop(is_slippery=True, reward_when_falling=-0.1)\n",
    "\n",
    "run_multiple_expe(algo, game, n_expe=1000)"
   ]
  },
  {
   "cell_type": "markdown",
   "metadata": {},
   "source": [
    "Q-Learning Tabulaire inclusion du Feedback, pas de récompenses négatives de l'environnement"
   ]
  },
  {
   "cell_type": "code",
   "execution_count": null,
   "metadata": {},
   "outputs": [],
   "source": [
    "gamma = 0.99\n",
    "expected_exploration_steps = 3000\n",
    "margin= 0.2\n",
    "\n",
    "algo = lambda : TabQLearningControlerFeedback(16, 4, gamma=gamma, lr=0.1, expected_exploration_steps=expected_exploration_steps, margin=margin)\n",
    "game = FrozenLakeEnvStop(is_slippery=True, reward_when_falling=0)\n",
    "\n",
    "run_multiple_expe(algo, game, n_expe=1000)"
   ]
  },
  {
   "cell_type": "code",
   "execution_count": null,
   "metadata": {},
   "outputs": [],
   "source": []
  },
  {
   "cell_type": "code",
   "execution_count": null,
   "metadata": {},
   "outputs": [],
   "source": []
  },
  {
   "cell_type": "code",
   "execution_count": 7,
   "metadata": {},
   "outputs": [],
   "source": [
    "import gym\n",
    "import math\n",
    "import random\n",
    "import numpy as np\n",
    "import matplotlib\n",
    "import matplotlib.pyplot as plt\n",
    "from collections import namedtuple\n",
    "from itertools import count\n",
    "from PIL import Image\n",
    "\n",
    "import torch\n",
    "import torch.nn as nn\n",
    "import torch.optim as optim\n",
    "import torch.nn.functional as F\n",
    "import torchvision.transforms as T\n",
    "\n",
    "# set up matplotlib\n",
    "is_ipython = 'inline' in matplotlib.get_backend()\n",
    "if is_ipython:\n",
    "    from IPython import display\n",
    "\n",
    "plt.ion()\n",
    "\n",
    "# if gpu is to be used\n",
    "device = torch.device(\"cuda\" if torch.cuda.is_available() else \"cpu\")"
   ]
  },
  {
   "cell_type": "code",
   "execution_count": 8,
   "metadata": {},
   "outputs": [],
   "source": [
    "Transition = namedtuple('Transition',\n",
    "                        ('state', 'action', 'next_state', 'reward'))\n",
    "\n",
    "class ReplayMemory(object):\n",
    "\n",
    "    def __init__(self, capacity):\n",
    "        self.capacity = capacity\n",
    "        self.memory = []\n",
    "        self.position = 0\n",
    "\n",
    "    def push(self, *args):\n",
    "        \"\"\"Saves a transition.\"\"\"\n",
    "        if len(self.memory) < self.capacity:\n",
    "            self.memory.append(None)\n",
    "        self.memory[self.position] = Transition(*args)\n",
    "        self.position = (self.position + 1) % self.capacity\n",
    "\n",
    "    def sample(self, batch_size):\n",
    "        return random.sample(self.memory, batch_size)\n",
    "\n",
    "    def __len__(self):\n",
    "        return len(self.memory)"
   ]
  },
  {
   "cell_type": "code",
   "execution_count": 9,
   "metadata": {},
   "outputs": [],
   "source": [
    "class QModel(nn.Module):\n",
    "    def __init__(self, size_in, n_action):\n",
    "        super().__init__()\n",
    "        \n",
    "        self.n_hidden = 10\n",
    "        self.n_action = n_action\n",
    "        self.input_size = size_in\n",
    "        \n",
    "        self.fc1 = nn.Linear(self.input_size, self.n_hidden)\n",
    "        self.fc2 = nn.Linear(self.n_hidden, self.n_action)\n",
    "\n",
    "    def forward(self, x):\n",
    "        x = F.relu(self.fc1(x))\n",
    "        x = self.fc2(x)\n",
    "        return x\n"
   ]
  },
  {
   "cell_type": "code",
   "execution_count": 10,
   "metadata": {},
   "outputs": [],
   "source": [
    "steps_done = 0\n",
    "\n",
    "def select_action(state):\n",
    "    global steps_done\n",
    "    sample = random.random()\n",
    "    eps_threshold = EPS_END + (EPS_START - EPS_END) * \\\n",
    "        math.exp(-1. * steps_done / EPS_DECAY)\n",
    "    steps_done += 1\n",
    "    if sample > eps_threshold:\n",
    "        with torch.no_grad():\n",
    "            # t.max(1) will return largest column value of each row.\n",
    "            # second column on max result is index of where max element was\n",
    "            # found, so we pick action with the larger expected reward.\n",
    "            qs = policy_net(state)\n",
    "            return qs.max(1)[1].view(1, 1)\n",
    "    else:\n",
    "        return torch.tensor([[random.randrange(n_actions)]], device=device, dtype=torch.long)"
   ]
  },
  {
   "cell_type": "code",
   "execution_count": 11,
   "metadata": {},
   "outputs": [],
   "source": [
    "def optimize_model():\n",
    "    if len(memory) < BATCH_SIZE:\n",
    "        return\n",
    "    transitions = memory.sample(BATCH_SIZE)\n",
    "    # Transpose the batch (see https://stackoverflow.com/a/19343/3343043 for\n",
    "    # detailed explanation). This converts batch-array of Transitions\n",
    "    # to Transition of batch-arrays.\n",
    "    batch = Transition(*zip(*transitions))\n",
    "\n",
    "    # Compute a mask of non-final states and concatenate the batch elements\n",
    "    # (a final state would've been the one after which simulation ended)\n",
    "    non_final_mask = torch.tensor(tuple(map(lambda s: s is not None,\n",
    "                                          batch.next_state)), device=device, dtype=torch.uint8)\n",
    "    non_final_next_states = torch.cat([s for s in batch.next_state\n",
    "                                                if s is not None])\n",
    "    state_batch = torch.cat(batch.state)\n",
    "    action_batch = torch.cat(batch.action)\n",
    "    reward_batch = torch.cat(batch.reward)\n",
    "\n",
    "    # Compute Q(s_t, a) - the model computes Q(s_t), then we select the\n",
    "    # columns of actions taken. These are the actions which would've been taken\n",
    "    # for each batch state according to policy_net\n",
    "    state_action_values = policy_net(state_batch).gather(1, action_batch)\n",
    "\n",
    "    # Compute V(s_{t+1}) for all next states.\n",
    "    # Expected values of actions for non_final_next_states are computed based\n",
    "    # on the \"older\" target_net; selecting their best reward with max(1)[0].\n",
    "    # This is merged based on the mask, such that we'll have either the expected\n",
    "    # state value or 0 in case the state was final.\n",
    "    next_state_values = torch.zeros(BATCH_SIZE, device=device)\n",
    "    next_state_values[non_final_mask] = target_net(non_final_next_states).max(1)[0].detach()\n",
    "    # Compute the expected Q values\n",
    "    expected_state_action_values = (next_state_values * GAMMA) + reward_batch\n",
    "\n",
    "    # Compute Huber loss\n",
    "    loss = F.smooth_l1_loss(state_action_values, expected_state_action_values.unsqueeze(1))\n",
    "\n",
    "    # Optimize the model\n",
    "    optimizer.zero_grad()\n",
    "    loss.backward()\n",
    "    for param in policy_net.parameters():\n",
    "        param.grad.data.clamp_(-1, 1)\n",
    "    optimizer.step()"
   ]
  },
  {
   "cell_type": "code",
   "execution_count": 12,
   "metadata": {},
   "outputs": [
    {
     "name": "stdout",
     "output_type": "stream",
     "text": [
      "End of ep #0, cumul_reward : 35.0\n"
     ]
    },
    {
     "name": "stdout",
     "output_type": "stream",
     "text": [
      "End of ep #40, cumul_reward : 42.175\n"
     ]
    },
    {
     "name": "stdout",
     "output_type": "stream",
     "text": [
      "End of ep #80, cumul_reward : 16.525\n"
     ]
    },
    {
     "name": "stdout",
     "output_type": "stream",
     "text": [
      "End of ep #120, cumul_reward : 25.6\n"
     ]
    },
    {
     "name": "stdout",
     "output_type": "stream",
     "text": [
      "End of ep #160, cumul_reward : 139.8\n"
     ]
    },
    {
     "name": "stdout",
     "output_type": "stream",
     "text": [
      "End of ep #200, cumul_reward : 153.75\n"
     ]
    },
    {
     "name": "stdout",
     "output_type": "stream",
     "text": [
      "End of ep #240, cumul_reward : 197.175\n"
     ]
    },
    {
     "name": "stdout",
     "output_type": "stream",
     "text": [
      "End of ep #280, cumul_reward : 148.1\n"
     ]
    },
    {
     "name": "stdout",
     "output_type": "stream",
     "text": [
      "End of ep #320, cumul_reward : 215.3\n"
     ]
    },
    {
     "name": "stdout",
     "output_type": "stream",
     "text": [
      "End of ep #360, cumul_reward : 202.9\n"
     ]
    },
    {
     "name": "stdout",
     "output_type": "stream",
     "text": [
      "End of ep #400, cumul_reward : 186.125\n"
     ]
    },
    {
     "name": "stdout",
     "output_type": "stream",
     "text": [
      "End of ep #440, cumul_reward : 153.325\n"
     ]
    },
    {
     "name": "stdout",
     "output_type": "stream",
     "text": [
      "End of ep #480, cumul_reward : 153.75\n"
     ]
    },
    {
     "name": "stdout",
     "output_type": "stream",
     "text": [
      "End of ep #520, cumul_reward : 153.875\n"
     ]
    },
    {
     "name": "stdout",
     "output_type": "stream",
     "text": [
      "End of ep #560, cumul_reward : 120.075\n"
     ]
    },
    {
     "name": "stdout",
     "output_type": "stream",
     "text": [
      "End of ep #600, cumul_reward : 124.325\n"
     ]
    },
    {
     "name": "stdout",
     "output_type": "stream",
     "text": [
      "End of ep #640, cumul_reward : 154.6\n"
     ]
    },
    {
     "name": "stdout",
     "output_type": "stream",
     "text": [
      "End of ep #680, cumul_reward : 122.325\n"
     ]
    },
    {
     "name": "stdout",
     "output_type": "stream",
     "text": [
      "End of ep #720, cumul_reward : 129.975\n"
     ]
    },
    {
     "name": "stdout",
     "output_type": "stream",
     "text": [
      "End of ep #760, cumul_reward : 54.5\n"
     ]
    },
    {
     "name": "stdout",
     "output_type": "stream",
     "text": [
      "End of ep #800, cumul_reward : 171.325\n"
     ]
    },
    {
     "name": "stdout",
     "output_type": "stream",
     "text": [
      "End of ep #840, cumul_reward : 131.6\n"
     ]
    },
    {
     "name": "stdout",
     "output_type": "stream",
     "text": [
      "End of ep #880, cumul_reward : 253.675\n"
     ]
    },
    {
     "name": "stdout",
     "output_type": "stream",
     "text": [
      "End of ep #920, cumul_reward : 202.175\n"
     ]
    },
    {
     "name": "stdout",
     "output_type": "stream",
     "text": [
      "End of ep #960, cumul_reward : 168.625\n"
     ]
    }
   ],
   "source": [
    "BATCH_SIZE = 128\n",
    "GAMMA = 0.999\n",
    "EPS_START = 0.9\n",
    "EPS_END = 0.05\n",
    "EPS_DECAY = 200\n",
    "TARGET_UPDATE = 40\n",
    "LR = 6e-3\n",
    "\n",
    "env = gym.make('CartPole-v0').unwrapped\n",
    "\n",
    "env_size = env.observation_space.shape[0]\n",
    "n_actions = env.action_space.n\n",
    "\n",
    "policy_net = QModel(size_in=env_size, n_action=n_actions).to(device)\n",
    "target_net = QModel(size_in=env_size, n_action=n_actions).to(device)\n",
    "target_net.load_state_dict(policy_net.state_dict())\n",
    "target_net.eval()\n",
    "\n",
    "optimizer = optim.RMSprop(policy_net.parameters(), lr=LR)\n",
    "memory = ReplayMemory(10000)\n",
    "\n",
    "num_episodes = 1000\n",
    "cumul_reward = 0\n",
    "rew_list = []\n",
    "\n",
    "\n",
    "for i_episode in range(num_episodes):\n",
    "    # Initialize the environment and state\n",
    "    state = torch.FloatTensor(env.reset()).unsqueeze(0)\n",
    "    assert isinstance(state, torch.Tensor)\n",
    "    for t in count():\n",
    "        # Select and perform an action\n",
    "        action = select_action(state)\n",
    "        next_state, reward, done, _ = env.step(action.item())\n",
    "        \n",
    "        cumul_reward += reward\n",
    "        \n",
    "        reward = torch.tensor([reward], device=device)\n",
    "        next_state = torch.FloatTensor(next_state).unsqueeze(0)\n",
    "        assert isinstance(next_state, torch.Tensor)\n",
    "        \n",
    "        if done:\n",
    "            next_state = None\n",
    "\n",
    "        # Store the transition in memory\n",
    "        memory.push(state, action, next_state, reward)\n",
    "\n",
    "        # Move to the next state\n",
    "        state = next_state\n",
    "\n",
    "        # Perform one step of the optimization (on the target network)\n",
    "        optimize_model()\n",
    "        if done:\n",
    "            rew_list.append(cumul_reward)\n",
    "            cumul_reward = 0\n",
    "            break\n",
    "    \n",
    "    # Update the target network, copying all weights and biases in DQN\n",
    "    if i_episode % TARGET_UPDATE == 0:\n",
    "        print(\"End of ep #{}, cumul_reward : {}\".format(i_episode, np.mean(rew_list)))\n",
    "        rew_list = []\n",
    "\n",
    "        target_net.load_state_dict(policy_net.state_dict())\n",
    "    \n",
    "\n"
   ]
  },
  {
   "cell_type": "code",
   "execution_count": 24,
   "metadata": {},
   "outputs": [
    {
     "name": "stdout",
     "output_type": "stream",
     "text": [
      "End of ep #0, cumul_reward : 0.0\n"
     ]
    },
    {
     "name": "stdout",
     "output_type": "stream",
     "text": [
      "End of ep #30, cumul_reward : -0.1233333333333333\n"
     ]
    },
    {
     "name": "stdout",
     "output_type": "stream",
     "text": [
      "End of ep #60, cumul_reward : 0.043333333333333314\n"
     ]
    },
    {
     "name": "stdout",
     "output_type": "stream",
     "text": [
      "End of ep #90, cumul_reward : 0.019999999999999976\n"
     ]
    },
    {
     "name": "stdout",
     "output_type": "stream",
     "text": [
      "End of ep #120, cumul_reward : 0.13000000000000017\n"
     ]
    },
    {
     "name": "stdout",
     "output_type": "stream",
     "text": [
      "End of ep #150, cumul_reward : -0.08666666666666632\n"
     ]
    },
    {
     "name": "stdout",
     "output_type": "stream",
     "text": [
      "End of ep #180, cumul_reward : -0.1966666666666667\n"
     ]
    },
    {
     "name": "stdout",
     "output_type": "stream",
     "text": [
      "End of ep #210, cumul_reward : 0.006666666666666685\n"
     ]
    },
    {
     "name": "stdout",
     "output_type": "stream",
     "text": [
      "End of ep #240, cumul_reward : -0.4333333333333335\n"
     ]
    },
    {
     "name": "stdout",
     "output_type": "stream",
     "text": [
      "End of ep #270, cumul_reward : -1.3133333333333335\n"
     ]
    },
    {
     "name": "stdout",
     "output_type": "stream",
     "text": [
      "End of ep #300, cumul_reward : -1.516666666666667\n"
     ]
    },
    {
     "name": "stdout",
     "output_type": "stream",
     "text": [
      "End of ep #330, cumul_reward : -0.2033333333333333\n"
     ]
    },
    {
     "name": "stdout",
     "output_type": "stream",
     "text": [
      "End of ep #360, cumul_reward : 0.29000000000000004\n"
     ]
    },
    {
     "name": "stdout",
     "output_type": "stream",
     "text": [
      "End of ep #390, cumul_reward : 0.25333333333333335\n"
     ]
    },
    {
     "name": "stdout",
     "output_type": "stream",
     "text": [
      "End of ep #420, cumul_reward : -0.14666666666666664\n"
     ]
    },
    {
     "name": "stdout",
     "output_type": "stream",
     "text": [
      "End of ep #450, cumul_reward : 0.15\n"
     ]
    },
    {
     "name": "stdout",
     "output_type": "stream",
     "text": [
      "End of ep #480, cumul_reward : -0.020000000000000007\n"
     ]
    },
    {
     "name": "stdout",
     "output_type": "stream",
     "text": [
      "End of ep #510, cumul_reward : -0.26\n"
     ]
    },
    {
     "name": "stdout",
     "output_type": "stream",
     "text": [
      "End of ep #540, cumul_reward : -0.32\n"
     ]
    },
    {
     "name": "stdout",
     "output_type": "stream",
     "text": [
      "End of ep #570, cumul_reward : -0.43333333333333335\n"
     ]
    },
    {
     "name": "stdout",
     "output_type": "stream",
     "text": [
      "End of ep #600, cumul_reward : -0.24333333333333337\n"
     ]
    },
    {
     "name": "stdout",
     "output_type": "stream",
     "text": [
      "End of ep #630, cumul_reward : -0.2966666666666667\n"
     ]
    },
    {
     "name": "stdout",
     "output_type": "stream",
     "text": [
      "End of ep #660, cumul_reward : -0.5033333333333329\n"
     ]
    },
    {
     "name": "stdout",
     "output_type": "stream",
     "text": [
      "End of ep #690, cumul_reward : -0.06666666666666668\n"
     ]
    },
    {
     "name": "stdout",
     "output_type": "stream",
     "text": [
      "End of ep #720, cumul_reward : -0.04666666666666666\n"
     ]
    },
    {
     "name": "stdout",
     "output_type": "stream",
     "text": [
      "End of ep #750, cumul_reward : -0.04000000000000001\n"
     ]
    },
    {
     "name": "stdout",
     "output_type": "stream",
     "text": [
      "End of ep #780, cumul_reward : -0.11333333333333333\n"
     ]
    },
    {
     "name": "stdout",
     "output_type": "stream",
     "text": [
      "End of ep #810, cumul_reward : -0.06333333333333334\n"
     ]
    },
    {
     "name": "stdout",
     "output_type": "stream",
     "text": [
      "End of ep #840, cumul_reward : -0.0033333333333333335\n"
     ]
    },
    {
     "name": "stdout",
     "output_type": "stream",
     "text": [
      "End of ep #870, cumul_reward : -0.0033333333333333335\n"
     ]
    },
    {
     "name": "stdout",
     "output_type": "stream",
     "text": [
      "End of ep #900, cumul_reward : -0.04000000000000001\n"
     ]
    },
    {
     "name": "stdout",
     "output_type": "stream",
     "text": [
      "End of ep #930, cumul_reward : -0.07666666666666667\n"
     ]
    },
    {
     "name": "stdout",
     "output_type": "stream",
     "text": [
      "End of ep #960, cumul_reward : -0.22\n"
     ]
    },
    {
     "name": "stdout",
     "output_type": "stream",
     "text": [
      "End of ep #990, cumul_reward : -0.04000000000000001\n"
     ]
    }
   ],
   "source": [
    "num_episodes = 1000\n",
    "cumul_reward = 0\n",
    "rew_list = []\n",
    "\n",
    "BATCH_SIZE = 128\n",
    "GAMMA = 0.999\n",
    "EPS_START = 0.9\n",
    "EPS_END = 0.05\n",
    "EPS_DECAY = 200\n",
    "TARGET_UPDATE = 30\n",
    "LR = 3e-3\n",
    "\n",
    "env = FrozenLakeEnvStop(is_slippery=False, reward_when_falling=-0.1)\n",
    "\n",
    "n_actions = env.action_space.n\n",
    "state_size = 1\n",
    "\n",
    "\n",
    "policy_net = QModel(size_in=state_size, n_action=n_actions).to(device)\n",
    "target_net = QModel(size_in=state_size, n_action=n_actions).to(device)\n",
    "target_net.load_state_dict(policy_net.state_dict())\n",
    "target_net.eval()\n",
    "\n",
    "optimizer = optim.RMSprop(policy_net.parameters(), lr=LR)\n",
    "memory = ReplayMemory(10000)\n",
    "\n",
    "\n",
    "for i_episode in range(num_episodes):\n",
    "    # Initialize the environment and state\n",
    "    state = env.reset()\n",
    "    state = torch.FloatTensor([state]).unsqueeze(0)\n",
    "    assert isinstance(state, torch.Tensor)\n",
    "    for t in count():\n",
    "        # Select and perform an action\n",
    "        action = select_action(state)\n",
    "        next_state, reward, done, _ = env.step(action.item())\n",
    "        \n",
    "        cumul_reward += reward\n",
    "        \n",
    "        reward = torch.tensor([reward], device=device)\n",
    "        next_state = torch.FloatTensor([next_state]).unsqueeze(0)\n",
    "        assert isinstance(next_state, torch.Tensor)\n",
    "        \n",
    "        if done:\n",
    "            next_state = None\n",
    "\n",
    "        # Store the transition in memory\n",
    "        memory.push(state, action, next_state, reward)\n",
    "\n",
    "        # Move to the next state\n",
    "        state = next_state\n",
    "\n",
    "        # Perform one step of the optimization (on the target network)\n",
    "        optimize_model()\n",
    "        if done:\n",
    "            rew_list.append(cumul_reward)\n",
    "            cumul_reward = 0\n",
    "            break\n",
    "    \n",
    "    # Update the target network, copying all weights and biases in DQN\n",
    "    if i_episode % TARGET_UPDATE == 0:\n",
    "        print(\"End of ep #{}, cumul_reward : {}\".format(i_episode, np.mean(rew_list)))\n",
    "        rew_list = []\n",
    "\n",
    "        target_net.load_state_dict(policy_net.state_dict())"
   ]
  },
  {
   "cell_type": "code",
   "execution_count": 2,
   "metadata": {},
   "outputs": [],
   "source": []
  },
  {
   "cell_type": "code",
   "execution_count": 2,
   "metadata": {},
   "outputs": [],
   "source": []
  },
  {
   "cell_type": "code",
   "execution_count": 2,
   "metadata": {},
   "outputs": [],
   "source": []
  },
  {
   "cell_type": "code",
   "execution_count": 2,
   "metadata": {},
   "outputs": [],
   "source": []
  },
  {
   "cell_type": "code",
   "execution_count": 2,
   "metadata": {},
   "outputs": [],
   "source": []
  },
  {
   "cell_type": "code",
   "execution_count": null,
   "metadata": {},
   "outputs": [],
   "source": []
  }
 ],
 "metadata": {
  "kernelspec": {
   "display_name": "Python 2",
   "language": "python",
   "name": "python2"
  },
  "language_info": {
   "codemirror_mode": {
    "name": "ipython",
    "version": 2
   },
   "file_extension": ".py",
   "mimetype": "text/x-python",
   "name": "python",
   "nbconvert_exporter": "python",
   "pygments_lexer": "ipython2",
   "version": "2.7.6"
  }
 },
 "nbformat": 4,
 "nbformat_minor": 0
}
